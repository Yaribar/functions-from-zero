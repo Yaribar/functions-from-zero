{
  "nbformat": 4,
  "nbformat_minor": 0,
  "metadata": {
    "colab": {
      "provenance": [],
      "authorship_tag": "ABX9TyN8IOtLUmr72Wf8ujhFwkwr",
      "include_colab_link": true
    },
    "kernelspec": {
      "name": "python3",
      "display_name": "Python 3"
    },
    "language_info": {
      "name": "python"
    }
  },
  "cells": [
    {
      "cell_type": "markdown",
      "metadata": {
        "id": "view-in-github",
        "colab_type": "text"
      },
      "source": [
        "<a href=\"https://colab.research.google.com/github/Yaribar/functions-from-zero/blob/master/functions.ipynb\" target=\"_parent\"><img src=\"https://colab.research.google.com/assets/colab-badge.svg\" alt=\"Open In Colab\"/></a>"
      ]
    },
    {
      "cell_type": "markdown",
      "source": [
        "### Styles of functions"
      ],
      "metadata": {
        "id": "Reb5RZyrwQAx"
      }
    },
    {
      "cell_type": "code",
      "execution_count": 1,
      "metadata": {
        "id": "fv6tat4zwGyN"
      },
      "outputs": [],
      "source": [
        "def simple():\n",
        "  pass"
      ]
    },
    {
      "cell_type": "code",
      "source": [
        "def simple2():\n",
        "  print('simple')"
      ],
      "metadata": {
        "id": "TAzVTkUywZcA"
      },
      "execution_count": 2,
      "outputs": []
    },
    {
      "cell_type": "code",
      "source": [
        "simple2()"
      ],
      "metadata": {
        "colab": {
          "base_uri": "https://localhost:8080/"
        },
        "id": "EIV5ZUIPwgZp",
        "outputId": "253a7151-4f03-4f25-b6d2-ea05d3198e09"
      },
      "execution_count": 3,
      "outputs": [
        {
          "output_type": "stream",
          "name": "stdout",
          "text": [
            "simple\n"
          ]
        }
      ]
    },
    {
      "cell_type": "markdown",
      "source": [
        "### Most useful"
      ],
      "metadata": {
        "id": "jFjCgbI7xn6F"
      }
    },
    {
      "cell_type": "code",
      "source": [
        "def my_worker(fruit):\n",
        "  statement = f\"my favourite meal is Chicken and {fruit}\"\n",
        "  meals = {\"dinner\": statement}\n",
        "  return meals"
      ],
      "metadata": {
        "id": "eRX45uS6wi5u"
      },
      "execution_count": 4,
      "outputs": []
    },
    {
      "cell_type": "code",
      "source": [
        "meal = my_worker(\"apple\")"
      ],
      "metadata": {
        "id": "tNpP97cGyCYi"
      },
      "execution_count": 5,
      "outputs": []
    },
    {
      "cell_type": "code",
      "source": [
        "type(meal)"
      ],
      "metadata": {
        "colab": {
          "base_uri": "https://localhost:8080/"
        },
        "id": "Wh5uypwuyEao",
        "outputId": "1bc0c275-d49e-44d1-ad43-dfab367bd354"
      },
      "execution_count": 6,
      "outputs": [
        {
          "output_type": "execute_result",
          "data": {
            "text/plain": [
              "dict"
            ]
          },
          "metadata": {},
          "execution_count": 6
        }
      ]
    },
    {
      "cell_type": "code",
      "source": [
        "meal"
      ],
      "metadata": {
        "colab": {
          "base_uri": "https://localhost:8080/"
        },
        "id": "I0aMUeO9yHZF",
        "outputId": "1baf3730-87c1-4861-eeeb-1ddaa9a7ab1c"
      },
      "execution_count": 7,
      "outputs": [
        {
          "output_type": "execute_result",
          "data": {
            "text/plain": [
              "{'dinner': 'my favourite meal is Chicken and apple'}"
            ]
          },
          "metadata": {},
          "execution_count": 7
        }
      ]
    },
    {
      "cell_type": "code",
      "source": [
        "meal.keys()"
      ],
      "metadata": {
        "colab": {
          "base_uri": "https://localhost:8080/"
        },
        "id": "YniKrLbuyLch",
        "outputId": "19c3d62d-90f6-492f-b96a-b559704bfd2a"
      },
      "execution_count": 8,
      "outputs": [
        {
          "output_type": "execute_result",
          "data": {
            "text/plain": [
              "dict_keys(['dinner'])"
            ]
          },
          "metadata": {},
          "execution_count": 8
        }
      ]
    },
    {
      "cell_type": "code",
      "source": [
        "meal.items()"
      ],
      "metadata": {
        "colab": {
          "base_uri": "https://localhost:8080/"
        },
        "id": "Okob5LOryOaK",
        "outputId": "11d0d420-ad9e-4a2c-eeef-bb3ddb7fc758"
      },
      "execution_count": 9,
      "outputs": [
        {
          "output_type": "execute_result",
          "data": {
            "text/plain": [
              "dict_items([('dinner', 'my favourite meal is Chicken and apple')])"
            ]
          },
          "metadata": {},
          "execution_count": 9
        }
      ]
    },
    {
      "cell_type": "code",
      "source": [
        "def human(food):\n",
        "  consume = food['dinner']\n",
        "  return consume"
      ],
      "metadata": {
        "id": "OALbMMROySEz"
      },
      "execution_count": 10,
      "outputs": []
    },
    {
      "cell_type": "code",
      "source": [
        "my_meal = human(meal)\n",
        "print(f\"I want my meal. It will be: {my_meal}\")"
      ],
      "metadata": {
        "colab": {
          "base_uri": "https://localhost:8080/"
        },
        "id": "qohoQ-6uydv8",
        "outputId": "acb616ca-95de-4ab5-fab8-3631c5b396c2"
      },
      "execution_count": 11,
      "outputs": [
        {
          "output_type": "stream",
          "name": "stdout",
          "text": [
            "I want my meal. It will be: my favourite meal is Chicken and apple\n"
          ]
        }
      ]
    },
    {
      "cell_type": "code",
      "source": [],
      "metadata": {
        "id": "Lq01i8RDytDV"
      },
      "execution_count": null,
      "outputs": []
    }
  ]
}